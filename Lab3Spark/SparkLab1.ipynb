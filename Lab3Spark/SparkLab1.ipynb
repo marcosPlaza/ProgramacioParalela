{
 "cells": [
  {
   "cell_type": "markdown",
   "metadata": {
    "id": "qVryd47Toj3B"
   },
   "source": [
    "# PySpark from Google colab\n",
    "\n",
    "In this lab we will see and test the basic functionality of Spark, and how to upload dataset files in Google colab.\n",
    "\n",
    "As you will see, installing pyspark is straightforward, so you should be easily able to install it on any computer at your disposal, with the command: pip install pyspark.\n",
    "\n",
    "Now we start the notebook by installing pyspark"
   ]
  },
  {
   "cell_type": "code",
   "execution_count": 1,
   "metadata": {
    "id": "b_t7OxPVkNtS"
   },
   "outputs": [
    {
     "name": "stdout",
     "output_type": "stream",
     "text": [
      "Collecting pyspark\n",
      "  Downloading pyspark-3.1.1.tar.gz (212.3 MB)\n",
      "\u001b[K     |████████████████████████████████| 212.3 MB 27.3 MB/s eta 0:00:01  |█▎                              | 8.4 MB 3.3 MB/s eta 0:01:03     |█████████████████▋              | 116.6 MB 31.0 MB/s eta 0:00:04\n",
      "\u001b[?25hCollecting py4j==0.10.9\n",
      "  Downloading py4j-0.10.9-py2.py3-none-any.whl (198 kB)\n",
      "\u001b[K     |████████████████████████████████| 198 kB 29.3 MB/s eta 0:00:01\n",
      "\u001b[?25hBuilding wheels for collected packages: pyspark\n",
      "  Building wheel for pyspark (setup.py) ... \u001b[?25ldone\n",
      "\u001b[?25h  Created wheel for pyspark: filename=pyspark-3.1.1-py2.py3-none-any.whl size=212767604 sha256=8f1e9f9f91d1ab96ef4820fd6428be24c9147aa23d341ee35740527223abdafa\n",
      "  Stored in directory: /Users/marcosplazagonzalez/Library/Caches/pip/wheels/b3/0e/81/264aeed961e43b9f6ba9ec81c8c540d2d7dccc52c6b51cbf22\n",
      "Successfully built pyspark\n",
      "Installing collected packages: py4j, pyspark\n",
      "Successfully installed py4j-0.10.9 pyspark-3.1.1\n"
     ]
    }
   ],
   "source": [
    "!pip install pyspark"
   ]
  },
  {
   "cell_type": "markdown",
   "metadata": {
    "id": "67mX47PSp59i"
   },
   "source": [
    "## Get the dataset\n",
    "\n",
    "In order to have a fast way to get the dataset we have prepared for this lab, we created a link to a file containing it in another google account, and written down all the necessary steps to get the file in the current path.\n",
    "\n",
    "This file is 2007.csv, and contains information about flights during the year 2007.\n",
    "\n",
    "Now, execute the following code cell."
   ]
  },
  {
   "cell_type": "code",
   "execution_count": 3,
   "metadata": {
    "id": "aQaMx5sxvIto"
   },
   "outputs": [
    {
     "name": "stdout",
     "output_type": "stream",
     "text": [
      "Downloading...\n",
      "From: https://drive.google.com/uc?id=13yfm1bNdMBSaNp896pzrg4oCVd6JrVeP\n",
      "To: /Users/marcosplazagonzalez/Desktop/UB Ing. Informatica Cuarto/Segundo semestre/ProgramacioParalela/Lab/Lab3Spark/Spark_Tutorial1.zip\n",
      "121MB [00:02, 41.3MB/s] \n",
      "Archive:  Spark_Tutorial1.zip\n",
      "   creating: Spark_Tutorial1/\n",
      "  inflating: Spark_Tutorial1/.DS_Store  \n",
      "   creating: __MACOSX/\n",
      "   creating: __MACOSX/Spark_Tutorial1/\n",
      "  inflating: __MACOSX/Spark_Tutorial1/._.DS_Store  \n",
      "  inflating: Spark_Tutorial1/2007.csv.bz2  \n",
      "  inflating: __MACOSX/Spark_Tutorial1/._2007.csv.bz2  \n",
      "  inflating: Spark_Tutorial1/README.txt  \n",
      "  inflating: __MACOSX/Spark_Tutorial1/._README.txt  \n",
      "  inflating: Spark_Tutorial1/tutorial1.pdf  \n",
      "  inflating: __MACOSX/Spark_Tutorial1/._tutorial1.pdf  \n",
      "  inflating: __MACOSX/._Spark_Tutorial1  \n",
      "2007.csv        SparkLab1.ipynb\n"
     ]
    }
   ],
   "source": [
    "!gdown --id \"13yfm1bNdMBSaNp896pzrg4oCVd6JrVeP\"\n",
    "!unzip Spark_Tutorial1.zip\n",
    "!bzip2 -d Spark_Tutorial1/2007.csv.bz2\n",
    "!mv Spark_Tutorial1/2007.csv .\n",
    "!rm -r __MACOSX\n",
    "!rm Spark_Tutorial1.zip\n",
    "!rm -r Spark_Tutorial1\n",
    "!ls"
   ]
  },
  {
   "cell_type": "markdown",
   "metadata": {
    "id": "uwY3OIb-5TfR"
   },
   "source": [
    "## Reading the file"
   ]
  },
  {
   "cell_type": "code",
   "execution_count": 4,
   "metadata": {
    "id": "qUcg6USv37DY"
   },
   "outputs": [],
   "source": [
    "import pyspark\n",
    "from pyspark.sql import SparkSession\n",
    "spark = SparkSession.builder.master(\"local[1]\").appName('testSparkSession').getOrCreate()\n",
    "\n",
    "df = spark.read.format(\"csv\").option(\"header\", \"true\").option(\"nullValue\",\"NA\").option(\"inferSchema\", \"true\").load(\"2007.csv\")"
   ]
  },
  {
   "cell_type": "markdown",
   "metadata": {
    "id": "74y4TJdVGZMM"
   },
   "source": [
    "Now we loaded the entire file into a DataFrame named \"df\".\n",
    "\n",
    "Next we will ask Spark to print the associated schema for the data. This means, the rows of the table and the type of the data contained on each row."
   ]
  },
  {
   "cell_type": "code",
   "execution_count": 5,
   "metadata": {
    "id": "2j3ixQKnGYC5"
   },
   "outputs": [
    {
     "name": "stdout",
     "output_type": "stream",
     "text": [
      "root\n",
      " |-- Year: integer (nullable = true)\n",
      " |-- Month: integer (nullable = true)\n",
      " |-- DayofMonth: integer (nullable = true)\n",
      " |-- DayOfWeek: integer (nullable = true)\n",
      " |-- DepTime: integer (nullable = true)\n",
      " |-- CRSDepTime: integer (nullable = true)\n",
      " |-- ArrTime: integer (nullable = true)\n",
      " |-- CRSArrTime: integer (nullable = true)\n",
      " |-- UniqueCarrier: string (nullable = true)\n",
      " |-- FlightNum: integer (nullable = true)\n",
      " |-- TailNum: string (nullable = true)\n",
      " |-- ActualElapsedTime: integer (nullable = true)\n",
      " |-- CRSElapsedTime: integer (nullable = true)\n",
      " |-- AirTime: integer (nullable = true)\n",
      " |-- ArrDelay: integer (nullable = true)\n",
      " |-- DepDelay: integer (nullable = true)\n",
      " |-- Origin: string (nullable = true)\n",
      " |-- Dest: string (nullable = true)\n",
      " |-- Distance: integer (nullable = true)\n",
      " |-- TaxiIn: integer (nullable = true)\n",
      " |-- TaxiOut: integer (nullable = true)\n",
      " |-- Cancelled: integer (nullable = true)\n",
      " |-- CancellationCode: string (nullable = true)\n",
      " |-- Diverted: integer (nullable = true)\n",
      " |-- CarrierDelay: integer (nullable = true)\n",
      " |-- WeatherDelay: integer (nullable = true)\n",
      " |-- NASDelay: integer (nullable = true)\n",
      " |-- SecurityDelay: integer (nullable = true)\n",
      " |-- LateAircraftDelay: integer (nullable = true)\n",
      "\n"
     ]
    }
   ],
   "source": [
    "df.printSchema()"
   ]
  },
  {
   "cell_type": "markdown",
   "metadata": {
    "id": "W-r6hwUKG8S1"
   },
   "source": [
    "We can also ask Spark to tell us how many partitions has it made. Depending on the number of CPU cores of your system, this number will change.\n",
    "\n",
    "The idea to make partitions in a single computer, is to allow each CPU core to process different data."
   ]
  },
  {
   "cell_type": "code",
   "execution_count": 6,
   "metadata": {
    "id": "Ji3M8IL0G_HM"
   },
   "outputs": [
    {
     "data": {
      "text/plain": [
       "6"
      ]
     },
     "execution_count": 6,
     "metadata": {},
     "output_type": "execute_result"
    }
   ],
   "source": [
    "df.rdd.getNumPartitions()"
   ]
  },
  {
   "cell_type": "markdown",
   "metadata": {
    "id": "PYKBLZBwHDPe"
   },
   "source": [
    "## Basic operations\n",
    "\n",
    "### Remove columns\n",
    "\n",
    "Spark offers a simple transformation to do that. Remember that transformations are not inmediatly executed."
   ]
  },
  {
   "cell_type": "code",
   "execution_count": 7,
   "metadata": {
    "id": "uzzn5Wp_HDiG"
   },
   "outputs": [],
   "source": [
    "df2 = df.drop(\"FlightNum\",\"TailNum\",\"UniqueCarrier\")"
   ]
  },
  {
   "cell_type": "markdown",
   "metadata": {
    "id": "mJuH-Mh4IVgs"
   },
   "source": [
    "We can also do it in another way. Instead of removing columns, we can create a new dataframe, with only the columns we want to work with."
   ]
  },
  {
   "cell_type": "code",
   "execution_count": 8,
   "metadata": {
    "id": "SJjZ3NuDIWDj"
   },
   "outputs": [
    {
     "name": "stdout",
     "output_type": "stream",
     "text": [
      "+------+----+--------+--------+\n",
      "|Origin|Dest|ArrDelay|DepDelay|\n",
      "+------+----+--------+--------+\n",
      "|   SMF| ONT|       1|       7|\n",
      "|   SMF| PDX|       8|      13|\n",
      "|   SMF| PDX|      34|      36|\n",
      "|   SMF| PDX|      26|      30|\n",
      "|   SMF| PDX|      -3|       1|\n",
      "|   SMF| PDX|       3|      10|\n",
      "|   SMF| PHX|      47|      56|\n",
      "|   SMF| PHX|      -2|       9|\n",
      "|   SMF| PHX|      44|      47|\n",
      "|   SMF| PHX|      -7|       3|\n",
      "|   SMF| PHX|     -11|       1|\n",
      "|   SMF| PHX|      52|      52|\n",
      "|   SMF| SAN|      45|      53|\n",
      "|   SMF| SAN|     -17|      -5|\n",
      "|   SMF| SAN|      -5|       6|\n",
      "|   SMF| SAN|      33|      44|\n",
      "|   SMF| SAN|      -9|       0|\n",
      "|   SMF| SAN|      -7|       2|\n",
      "|   SMF| SAN|     -11|       1|\n",
      "|   SMF| SAN|      36|      29|\n",
      "+------+----+--------+--------+\n",
      "only showing top 20 rows\n",
      "\n"
     ]
    }
   ],
   "source": [
    "df2 = df.select(\"Origin\", \"Dest\", \"ArrDelay\", \"DepDelay\")\n",
    "df2.show()"
   ]
  },
  {
   "cell_type": "markdown",
   "metadata": {
    "id": "7TwviX7jIYzE"
   },
   "source": [
    "From now on, we will work with df2 contents, but before we want to remove all the entries with a NA value in the columns ArrDelay or DepDelay."
   ]
  },
  {
   "cell_type": "code",
   "execution_count": 9,
   "metadata": {
    "id": "38dU-IP0IZCx"
   },
   "outputs": [],
   "source": [
    "df3 = df2.na.drop()"
   ]
  },
  {
   "cell_type": "markdown",
   "metadata": {
    "id": "1BSWcwi3IbZd"
   },
   "source": [
    "### Add columns\n",
    "\n",
    "We can add new columns and new information. For instance, in the dataframe we have information about the departure delay (DepDelay) and the arrival delay (ArrDelay). With that, we can create a new column composed by the addition of the two."
   ]
  },
  {
   "cell_type": "code",
   "execution_count": 10,
   "metadata": {
    "id": "kDIGYMXQIb64"
   },
   "outputs": [],
   "source": [
    "from pyspark.sql.functions import expr\n",
    "df4 = df3.withColumn(\"SumDelay\", expr(\"ArrDelay + DepDelay\"))"
   ]
  },
  {
   "cell_type": "markdown",
   "metadata": {
    "id": "AU8ZGBdxRUeg"
   },
   "source": [
    "Now we can check the results by executing an action, which will tirgger the execution of all the accumulated transformations."
   ]
  },
  {
   "cell_type": "code",
   "execution_count": 11,
   "metadata": {
    "id": "dmXv0kt0RVBh"
   },
   "outputs": [
    {
     "name": "stdout",
     "output_type": "stream",
     "text": [
      "+--------+--------+--------+\n",
      "|DepDelay|ArrDelay|SumDelay|\n",
      "+--------+--------+--------+\n",
      "|       7|       1|       8|\n",
      "|      13|       8|      21|\n",
      "|      36|      34|      70|\n",
      "|      30|      26|      56|\n",
      "|       1|      -3|      -2|\n",
      "|      10|       3|      13|\n",
      "|      56|      47|     103|\n",
      "|       9|      -2|       7|\n",
      "|      47|      44|      91|\n",
      "|       3|      -7|      -4|\n",
      "+--------+--------+--------+\n",
      "only showing top 10 rows\n",
      "\n"
     ]
    }
   ],
   "source": [
    "df4.select(\"DepDelay\", \"ArrDelay\", \"SumDelay\").show(10)"
   ]
  },
  {
   "cell_type": "code",
   "execution_count": 15,
   "metadata": {},
   "outputs": [
    {
     "name": "stdout",
     "output_type": "stream",
     "text": [
      "+------+----+--------+--------+--------+\n",
      "|Origin|Dest|ArrDelay|DepDelay|SumDelay|\n",
      "+------+----+--------+--------+--------+\n",
      "|   SMF| ONT|       1|       7|       8|\n",
      "|   SMF| PDX|       8|      13|      21|\n",
      "|   SMF| PDX|      34|      36|      70|\n",
      "|   SMF| PDX|      26|      30|      56|\n",
      "|   SMF| PDX|      -3|       1|      -2|\n",
      "|   SMF| PDX|       3|      10|      13|\n",
      "|   SMF| PHX|      47|      56|     103|\n",
      "|   SMF| PHX|      -2|       9|       7|\n",
      "|   SMF| PHX|      44|      47|      91|\n",
      "|   SMF| PHX|      -7|       3|      -4|\n",
      "+------+----+--------+--------+--------+\n",
      "only showing top 10 rows\n",
      "\n"
     ]
    }
   ],
   "source": [
    "df4.show(10)"
   ]
  },
  {
   "cell_type": "markdown",
   "metadata": {
    "id": "ApOTldT8RXvw"
   },
   "source": [
    "See that the action was executed very quickly! That is because the transformations where only applied to the first 10 entries of our DataFrame.\n",
    "\n",
    "In case we are interested in knowing the maximum and minimum delays, it will take more time, because we need to traverse the entire DataFrame."
   ]
  },
  {
   "cell_type": "code",
   "execution_count": 12,
   "metadata": {
    "id": "uClAa2NERYbK"
   },
   "outputs": [
    {
     "name": "stdout",
     "output_type": "stream",
     "text": [
      "+-------------+-------------+\n",
      "|max(SumDelay)|min(SumDelay)|\n",
      "+-------------+-------------+\n",
      "|         5199|         -617|\n",
      "+-------------+-------------+\n",
      "\n"
     ]
    }
   ],
   "source": [
    "from pyspark.sql.functions import max, min\n",
    "df4.select(max(\"SumDelay\"),min(\"SumDelay\")).show()"
   ]
  },
  {
   "cell_type": "markdown",
   "metadata": {
    "id": "jPTRmw2iRcv_"
   },
   "source": [
    "And we can also find the mean:"
   ]
  },
  {
   "cell_type": "code",
   "execution_count": 13,
   "metadata": {
    "id": "_GnXWt2eRdCv"
   },
   "outputs": [
    {
     "name": "stdout",
     "output_type": "stream",
     "text": [
      "+-------------+-------------+-----------------+\n",
      "|max(SumDelay)|min(SumDelay)|    avg(SumDelay)|\n",
      "+-------------+-------------+-----------------+\n",
      "|         5199|         -617|21.55425998256014|\n",
      "+-------------+-------------+-----------------+\n",
      "\n"
     ]
    }
   ],
   "source": [
    "from pyspark.sql.functions import avg\n",
    "df4.select(max(\"SumDelay\"),min(\"SumDelay\"),avg(\"SumDelay\")).show()"
   ]
  },
  {
   "cell_type": "markdown",
   "metadata": {
    "id": "uxkg-WCqRkut"
   },
   "source": [
    "### Storing intermadiate results\n",
    "\n",
    "It is not mandatory to always execute all the transformations all the time. We can ask Spark to keep the results of all the transformations already present in a data frame. That way, the next transformations we add will continue from there.\n",
    "\n",
    "The intermediate results will be stored either on RAM or hard disk. This will be decided by Spark."
   ]
  },
  {
   "cell_type": "code",
   "execution_count": 14,
   "metadata": {
    "id": "7yxV_XEkRlF_"
   },
   "outputs": [
    {
     "data": {
      "text/plain": [
       "DataFrame[Origin: string, Dest: string, ArrDelay: int, DepDelay: int, SumDelay: int]"
      ]
     },
     "execution_count": 14,
     "metadata": {},
     "output_type": "execute_result"
    }
   ],
   "source": [
    "df4.cache()"
   ]
  },
  {
   "cell_type": "markdown",
   "metadata": {
    "id": "97HVnkNWTj92"
   },
   "source": [
    "### Filter operations\n",
    "\n",
    "Filter operations allow us to create new DataFrames that satisfy a condition over the data in another DataFrame.\n",
    "\n",
    "There are two transformations that allow to do that: \"where\" and \"filter\"."
   ]
  },
  {
   "cell_type": "code",
   "execution_count": 16,
   "metadata": {
    "id": "2jimmhULTneM"
   },
   "outputs": [
    {
     "name": "stdout",
     "output_type": "stream",
     "text": [
      "+------+----+--------+--------+--------+\n",
      "|Origin|Dest|ArrDelay|DepDelay|SumDelay|\n",
      "+------+----+--------+--------+--------+\n",
      "|   SMF| PDX|      -3|       1|      -2|\n",
      "|   SMF| PHX|      -7|       3|      -4|\n",
      "|   SMF| PHX|     -11|       1|     -10|\n",
      "|   SMF| SAN|     -17|      -5|     -22|\n",
      "|   SMF| SAN|      -9|       0|      -9|\n",
      "|   SMF| SAN|      -7|       2|      -5|\n",
      "|   SMF| SAN|     -11|       1|     -10|\n",
      "|   SMF| SAN|      -6|       3|      -3|\n",
      "|   SMF| SAN|     -14|       0|     -14|\n",
      "|   SMF| SAN|      -9|      -5|     -14|\n",
      "|   SMF| SNA|      -4|       0|      -4|\n",
      "|   SMF| SNA|      -8|       2|      -6|\n",
      "|   SMF| SNA|     -16|      -4|     -20|\n",
      "|   SMF| SNA|      -7|       0|      -7|\n",
      "|   SMF| SNA|     -15|      -4|     -19|\n",
      "|   SNA| MDW|     -18|       0|     -18|\n",
      "|   SNA| OAK|      -1|       0|      -1|\n",
      "|   SNA| OAK|       0|      -1|      -1|\n",
      "|   SNA| OAK|      -2|       0|      -2|\n",
      "|   SNA| OAK|      -1|       0|      -1|\n",
      "+------+----+--------+--------+--------+\n",
      "only showing top 20 rows\n",
      "\n"
     ]
    }
   ],
   "source": [
    "df5 = df4.where(\"SumDelay < 0\")\n",
    "df5.show()"
   ]
  },
  {
   "cell_type": "markdown",
   "metadata": {
    "id": "PHVD6VdoTq1B"
   },
   "source": [
    "Now we can check how many flights land before time."
   ]
  },
  {
   "cell_type": "code",
   "execution_count": 17,
   "metadata": {
    "id": "HCZ1q906TsQ5"
   },
   "outputs": [
    {
     "data": {
      "text/plain": [
       "3676937"
      ]
     },
     "execution_count": 17,
     "metadata": {},
     "output_type": "execute_result"
    }
   ],
   "source": [
    "df3.count()\n",
    "df5.count()"
   ]
  },
  {
   "cell_type": "markdown",
   "metadata": {
    "id": "8VYaNHy4Tx-e"
   },
   "source": [
    "We can also apply more than one filter, one after the other."
   ]
  },
  {
   "cell_type": "code",
   "execution_count": 18,
   "metadata": {
    "id": "7Ag6yiFVTyMf"
   },
   "outputs": [
    {
     "name": "stdout",
     "output_type": "stream",
     "text": [
      "+------+----+--------+--------+--------+\n",
      "|Origin|Dest|ArrDelay|DepDelay|SumDelay|\n",
      "+------+----+--------+--------+--------+\n",
      "|   JFK| CLE|     -13|     -19|     -32|\n",
      "|   JFK| CLE|     -25|      -3|     -28|\n",
      "|   JFK| CLE|     -25|      -8|     -33|\n",
      "|   JFK| CLE|       4|     -14|     -10|\n",
      "|   JFK| CLE|     -17|      -2|     -19|\n",
      "|   JFK| CLE|      -4|      -3|      -7|\n",
      "|   JFK| CLE|      -4|      -3|      -7|\n",
      "|   JFK| CLE|      -1|      -8|      -9|\n",
      "|   JFK| CLE|     -17|     -10|     -27|\n",
      "|   JFK| CLE|     -30|      -9|     -39|\n",
      "|   JFK| CLE|       3|      -5|      -2|\n",
      "|   JFK| CLE|      -6|     -10|     -16|\n",
      "|   JFK| CLE|     -20|      -4|     -24|\n",
      "|   JFK| CLE|     -12|      -6|     -18|\n",
      "|   JFK| CLE|       5|      -8|      -3|\n",
      "|   JFK| IAD|     -15|      -3|     -18|\n",
      "|   JFK| IAD|      -4|       1|      -3|\n",
      "|   JFK| IAD|     -13|     -16|     -29|\n",
      "|   JFK| IAD|      -7|       6|      -1|\n",
      "|   JFK| CLT|      -8|       0|      -8|\n",
      "+------+----+--------+--------+--------+\n",
      "only showing top 20 rows\n",
      "\n"
     ]
    },
    {
     "data": {
      "text/plain": [
       "53321"
      ]
     },
     "execution_count": 18,
     "metadata": {},
     "output_type": "execute_result"
    }
   ],
   "source": [
    "df5 = df4.where(\"SumDelay < 0\").where(\"Origin == 'JFK'\")\n",
    "df5.show()\n",
    "df5.count()"
   ]
  },
  {
   "cell_type": "markdown",
   "metadata": {
    "id": "KPYbxempT1Qj"
   },
   "source": [
    "The \"filter\" transformation is very similar to \"where\".\n",
    "\n",
    "We can do the same operation whe previously did, but using \"filter\" instead of \"where\"."
   ]
  },
  {
   "cell_type": "code",
   "execution_count": 19,
   "metadata": {
    "id": "mH-6bRuxT1hV"
   },
   "outputs": [
    {
     "data": {
      "text/plain": [
       "53321"
      ]
     },
     "execution_count": 19,
     "metadata": {},
     "output_type": "execute_result"
    }
   ],
   "source": [
    "from pyspark.sql.functions import col\n",
    "i = 0\n",
    "city = \"JFK\"\n",
    "df5 = df4.filter(col(\"SumDelay\") < i).filter(col(\"Origin\") == city)\n",
    "df5.count()"
   ]
  },
  {
   "cell_type": "markdown",
   "metadata": {
    "id": "sBgxWtsmT5EK"
   },
   "source": [
    "#### Test\n",
    "\n",
    "Could you find the total, maximum, minimum and average delay for flights that start from 'JFK' airport? "
   ]
  },
  {
   "cell_type": "code",
   "execution_count": 24,
   "metadata": {
    "id": "m3w8dmfvV6kb"
   },
   "outputs": [
    {
     "name": "stdout",
     "output_type": "stream",
     "text": [
      "+-------------+-------------+-------------+-----------------+\n",
      "|sum(SumDelay)|max(SumDelay)|min(SumDelay)|    avg(SumDelay)|\n",
      "+-------------+-------------+-------------+-----------------+\n",
      "|      4290965|         3111|          -90|35.16175687302823|\n",
      "+-------------+-------------+-------------+-----------------+\n",
      "\n"
     ]
    }
   ],
   "source": [
    "from pyspark.sql.functions import sum\n",
    "# your code here\n",
    "df_test = df4.filter(col(\"Origin\") == city).select(sum(\"SumDelay\"), max(\"SumDelay\"),min(\"SumDelay\"),avg(\"SumDelay\"))\n",
    "df_test.show()"
   ]
  },
  {
   "cell_type": "markdown",
   "metadata": {
    "id": "6xJWQ__OWAWk"
   },
   "source": [
    "## Sort operations\n",
    "\n"
   ]
  },
  {
   "cell_type": "code",
   "execution_count": 25,
   "metadata": {
    "id": "QGVDR24tT5e7"
   },
   "outputs": [],
   "source": [
    "from pyspark.sql.functions import asc, desc\n",
    "df5 = df4.sort(asc(\"SumDelay\"))"
   ]
  },
  {
   "cell_type": "markdown",
   "metadata": {
    "id": "1CyqhsHrWLOa"
   },
   "source": [
    "Here we sorted the data by the total delay.\n",
    "\n",
    "This is an ascendent ordering, from minor to major.\n",
    "\n",
    "Again, this is a transformation, and is not executed until we execute an action like \"show\"."
   ]
  },
  {
   "cell_type": "code",
   "execution_count": 26,
   "metadata": {
    "id": "hZElCcIbWJxF"
   },
   "outputs": [
    {
     "name": "stdout",
     "output_type": "stream",
     "text": [
      "+------+----+--------+--------+--------+\n",
      "|Origin|Dest|ArrDelay|DepDelay|SumDelay|\n",
      "+------+----+--------+--------+--------+\n",
      "|   AKN| ANC|    -312|    -305|    -617|\n",
      "|   CHA| ATL|    -175|    -165|    -340|\n",
      "|   ANC| FAI|    -162|    -165|    -327|\n",
      "|   AUS| ATL|    -132|    -124|    -256|\n",
      "|   ATL| AVL|    -116|    -111|    -227|\n",
      "|   ANC| SEA|     -13|    -168|    -181|\n",
      "|   SAN| OKC|    -157|     -19|    -176|\n",
      "|   HNL| KOA|     -89|     -82|    -171|\n",
      "|   SFO| HNL|       8|    -169|    -161|\n",
      "|   ADK| ANC|     -83|     -72|    -155|\n",
      "|   SJC| SBA|     -82|     -67|    -149|\n",
      "|   ITO| HNL|     -74|     -71|    -145|\n",
      "|   ADK| ANC|     -78|     -67|    -145|\n",
      "|   GNV| ATL|     -82|     -62|    -144|\n",
      "|   ANC| SEA|      -5|    -137|    -142|\n",
      "|   PHL| SJU|     -79|     -60|    -139|\n",
      "|   KOA| HNL|     -72|     -65|    -137|\n",
      "|   ADK| ANC|     -79|     -58|    -137|\n",
      "|   YAK| JNU|     -73|     -64|    -137|\n",
      "|   DHN| ATL|     -75|     -60|    -135|\n",
      "+------+----+--------+--------+--------+\n",
      "only showing top 20 rows\n",
      "\n"
     ]
    }
   ],
   "source": [
    "df5.show()"
   ]
  },
  {
   "cell_type": "markdown",
   "metadata": {
    "id": "mZeN7aFgWNpv"
   },
   "source": [
    "We can also do the ordering in descendent order. But in this case we will ask only the first 5 elements."
   ]
  },
  {
   "cell_type": "code",
   "execution_count": 27,
   "metadata": {
    "id": "uMF9YhjwWOD9"
   },
   "outputs": [
    {
     "name": "stdout",
     "output_type": "stream",
     "text": [
      "+------+----+--------+--------+--------+\n",
      "|Origin|Dest|ArrDelay|DepDelay|SumDelay|\n",
      "+------+----+--------+--------+--------+\n",
      "|   PBI| DTW|    2598|    2601|    5199|\n",
      "|   ALO| MSP|    1942|    1956|    3898|\n",
      "|   HNL| MSP|    1848|    1831|    3679|\n",
      "|   FWA| DTW|    1715|    1736|    3451|\n",
      "|   FAI| MSP|    1665|    1689|    3354|\n",
      "+------+----+--------+--------+--------+\n",
      "\n"
     ]
    }
   ],
   "source": [
    "df5 = df4.sort(desc(\"SumDelay\")).limit(5)\n",
    "df5.show()"
   ]
  },
  {
   "cell_type": "markdown",
   "metadata": {
    "id": "1ht-1Id9WRel"
   },
   "source": [
    "### Obtaining unique elements\n",
    "\n",
    "How many different airports are in the DataFrame?"
   ]
  },
  {
   "cell_type": "code",
   "execution_count": 28,
   "metadata": {
    "id": "smWcRQKRWR-F"
   },
   "outputs": [
    {
     "data": {
      "text/plain": [
       "304"
      ]
     },
     "execution_count": 28,
     "metadata": {},
     "output_type": "execute_result"
    }
   ],
   "source": [
    "df5 = df4.select(\"Origin\").distinct()\n",
    "df5.count()"
   ]
  },
  {
   "cell_type": "markdown",
   "metadata": {
    "id": "xawBziaJXUKs"
   },
   "source": [
    "#### Test\n",
    "\n",
    "How many destinations are there?"
   ]
  },
  {
   "cell_type": "code",
   "execution_count": 30,
   "metadata": {
    "id": "-nYUwX39X0sj"
   },
   "outputs": [
    {
     "data": {
      "text/plain": [
       "304"
      ]
     },
     "execution_count": 30,
     "metadata": {},
     "output_type": "execute_result"
    }
   ],
   "source": [
    "# Your code here\n",
    "df_test2 = df4.select(\"Dest\").distinct()\n",
    "df_test2.count()"
   ]
  },
  {
   "cell_type": "markdown",
   "metadata": {
    "id": "eaSoKh3cXmnk"
   },
   "source": [
    "Additionally, what does the following operation do?"
   ]
  },
  {
   "cell_type": "code",
   "execution_count": 31,
   "metadata": {
    "id": "xhgyQyoMXmDH"
   },
   "outputs": [
    {
     "data": {
      "text/plain": [
       "5032"
      ]
     },
     "execution_count": 31,
     "metadata": {},
     "output_type": "execute_result"
    }
   ],
   "source": [
    "df4.select(\"Origin\",\"Dest\").distinct().count()"
   ]
  },
  {
   "cell_type": "markdown",
   "metadata": {},
   "source": [
    "#### Answering the last question:\n",
    "```\n",
    "df4.select(\"Origin\",\"Dest\").distinct().count()\n",
    "```\n",
    "Here we are summing the number of distinct combination of \"Origin\" \"Dest\" pairs. In total it gives 5032."
   ]
  },
  {
   "cell_type": "markdown",
   "metadata": {
    "id": "RJraRJkuX7HN"
   },
   "source": [
    "### Accessing data from python\n",
    "\n",
    "We will show how to dump df4 into a python variable and how to read it."
   ]
  },
  {
   "cell_type": "code",
   "execution_count": 36,
   "metadata": {
    "id": "BMSWCbHMYHvz"
   },
   "outputs": [
    {
     "data": {
      "text/plain": [
       "[Row(Origin='SMF', Dest='ONT', ArrDelay=1, DepDelay=7, SumDelay=8),\n",
       " Row(Origin='SMF', Dest='PDX', ArrDelay=8, DepDelay=13, SumDelay=21),\n",
       " Row(Origin='SMF', Dest='PDX', ArrDelay=34, DepDelay=36, SumDelay=70),\n",
       " Row(Origin='SMF', Dest='PDX', ArrDelay=26, DepDelay=30, SumDelay=56),\n",
       " Row(Origin='SMF', Dest='PDX', ArrDelay=-3, DepDelay=1, SumDelay=-2)]"
      ]
     },
     "execution_count": 36,
     "metadata": {},
     "output_type": "execute_result"
    }
   ],
   "source": [
    "dades = df4.limit(5).collect()\n",
    "dades"
   ]
  },
  {
   "cell_type": "code",
   "execution_count": 37,
   "metadata": {},
   "outputs": [
    {
     "data": {
      "text/plain": [
       "Row(Origin='SMF', Dest='ONT', ArrDelay=1, DepDelay=7, SumDelay=8)"
      ]
     },
     "execution_count": 37,
     "metadata": {},
     "output_type": "execute_result"
    }
   ],
   "source": [
    "dades[0]"
   ]
  },
  {
   "cell_type": "code",
   "execution_count": 38,
   "metadata": {},
   "outputs": [
    {
     "data": {
      "text/plain": [
       "7"
      ]
     },
     "execution_count": 38,
     "metadata": {},
     "output_type": "execute_result"
    }
   ],
   "source": [
    "dades[0][3]"
   ]
  },
  {
   "cell_type": "markdown",
   "metadata": {
    "id": "sBTTsjS1YMlH"
   },
   "source": [
    "## Writing into files\n",
    "\n",
    "We have seen how to read a csv file from disc. Now we will see how to do the opposite.\n",
    "\n",
    "Let's save df4 into disk. Remember it has n partitions."
   ]
  },
  {
   "cell_type": "code",
   "execution_count": 39,
   "metadata": {
    "id": "WLlKWPH4YgXr"
   },
   "outputs": [
    {
     "data": {
      "text/plain": [
       "6"
      ]
     },
     "execution_count": 39,
     "metadata": {},
     "output_type": "execute_result"
    }
   ],
   "source": [
    "df4.rdd.getNumPartitions()"
   ]
  },
  {
   "cell_type": "markdown",
   "metadata": {
    "id": "YO40doMSYjAl"
   },
   "source": [
    "By default if we store df4 into a file, we would not obtain a single file, but as many files as partitions are there.\n",
    "\n",
    "To have all the data in a single frame we can use \"coalesce\""
   ]
  },
  {
   "cell_type": "code",
   "execution_count": 40,
   "metadata": {
    "id": "kc1flgLBY1Ii"
   },
   "outputs": [
    {
     "data": {
      "text/plain": [
       "1"
      ]
     },
     "execution_count": 40,
     "metadata": {},
     "output_type": "execute_result"
    }
   ],
   "source": [
    "df4_one = df4.coalesce(1)\n",
    "df4_one.rdd.getNumPartitions()"
   ]
  },
  {
   "cell_type": "markdown",
   "metadata": {
    "id": "rhtf0EDDY41X"
   },
   "source": [
    "df4_one has all the data in a single partition\n",
    "\n",
    "Now we can save it to a file."
   ]
  },
  {
   "cell_type": "code",
   "execution_count": 41,
   "metadata": {
    "id": "MP1fWnzQY-Jy"
   },
   "outputs": [],
   "source": [
    "df4_one.write.csv('df4_one.csv')"
   ]
  },
  {
   "cell_type": "markdown",
   "metadata": {
    "id": "ldyq3XFeZUMv"
   },
   "source": [
    "### Test\n",
    "\n",
    "What happens if you try to sort the elements in df4_one? Will it be slower?\n",
    "\n",
    "Does the number of CPU cores affect the result?"
   ]
  },
  {
   "cell_type": "code",
   "execution_count": 60,
   "metadata": {
    "id": "yefQvdplZh6T"
   },
   "outputs": [],
   "source": [
    "# Your code here\n",
    "import time\n",
    "\n",
    "t = time.process_time()\n",
    "df_beforemerge = df4.sort(desc(\"SumDelay\")).limit(5)\n",
    "elapsed_time = time.process_time() - t"
   ]
  },
  {
   "cell_type": "code",
   "execution_count": 61,
   "metadata": {},
   "outputs": [
    {
     "name": "stdout",
     "output_type": "stream",
     "text": [
      "Elapsed time before merging partitions is 0.0061909999999993914\n",
      "6\n",
      "+------+----+--------+--------+--------+\n",
      "|Origin|Dest|ArrDelay|DepDelay|SumDelay|\n",
      "+------+----+--------+--------+--------+\n",
      "|   PBI| DTW|    2598|    2601|    5199|\n",
      "|   ALO| MSP|    1942|    1956|    3898|\n",
      "|   HNL| MSP|    1848|    1831|    3679|\n",
      "|   FWA| DTW|    1715|    1736|    3451|\n",
      "|   FAI| MSP|    1665|    1689|    3354|\n",
      "+------+----+--------+--------+--------+\n",
      "\n"
     ]
    }
   ],
   "source": [
    "print(\"Elapsed time before merging partitions is {}\".format(elapsed_time))\n",
    "print(df4.rdd.getNumPartitions())\n",
    "df_beforemerge.show()"
   ]
  },
  {
   "cell_type": "code",
   "execution_count": 62,
   "metadata": {},
   "outputs": [],
   "source": [
    "t2 = time.process_time()\n",
    "df_aftermerge = df4_one.sort(desc(\"SumDelay\")).limit(5)\n",
    "elapsed_time2 = time.process_time() - t2"
   ]
  },
  {
   "cell_type": "code",
   "execution_count": 63,
   "metadata": {},
   "outputs": [
    {
     "name": "stdout",
     "output_type": "stream",
     "text": [
      "Elapsed time after merging partitions is 0.005943999999999505\n",
      "1\n",
      "+------+----+--------+--------+--------+\n",
      "|Origin|Dest|ArrDelay|DepDelay|SumDelay|\n",
      "+------+----+--------+--------+--------+\n",
      "|   PBI| DTW|    2598|    2601|    5199|\n",
      "|   ALO| MSP|    1942|    1956|    3898|\n",
      "|   HNL| MSP|    1848|    1831|    3679|\n",
      "|   FWA| DTW|    1715|    1736|    3451|\n",
      "|   FAI| MSP|    1665|    1689|    3354|\n",
      "+------+----+--------+--------+--------+\n",
      "\n"
     ]
    }
   ],
   "source": [
    "print(\"Elapsed time after merging partitions is {}\".format(elapsed_time2))\n",
    "print(df4_one.rdd.getNumPartitions())\n",
    "df_aftermerge.show()"
   ]
  },
  {
   "cell_type": "markdown",
   "metadata": {},
   "source": [
    "It seems that the sorting time in the Data frame with one single partition is faster."
   ]
  },
  {
   "cell_type": "code",
   "execution_count": null,
   "metadata": {},
   "outputs": [],
   "source": []
  }
 ],
 "metadata": {
  "colab": {
   "name": "SparkLab1.ipynb",
   "provenance": []
  },
  "kernelspec": {
   "display_name": "Python 3",
   "language": "python",
   "name": "python3"
  },
  "language_info": {
   "codemirror_mode": {
    "name": "ipython",
    "version": 3
   },
   "file_extension": ".py",
   "mimetype": "text/x-python",
   "name": "python",
   "nbconvert_exporter": "python",
   "pygments_lexer": "ipython3",
   "version": "3.8.8"
  }
 },
 "nbformat": 4,
 "nbformat_minor": 1
}
